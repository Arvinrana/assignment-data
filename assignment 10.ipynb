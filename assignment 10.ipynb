{
 "cells": [
  {
   "cell_type": "markdown",
   "id": "a9749ac9",
   "metadata": {},
   "source": [
    "# How do you distinguish between shutil.copy() and shutil.copytree()?"
   ]
  },
  {
   "cell_type": "markdown",
   "id": "d079a53f",
   "metadata": {},
   "source": [
    "# While shutil. copy() will copy a single file, shutil. copytree() will copy an entire folder and every folder and file contained in it."
   ]
  },
  {
   "cell_type": "markdown",
   "id": "2f2bf883",
   "metadata": {},
   "source": [
    "# 2. What function is used to rename files??\n",
    "\n",
    "\n",
    "\n",
    "# Changes the filename under which a file is stored. RENAME changes the name of the first filename you enter to the second filename you enter. If you enter a path designation for the first filename, the renamed file will be stored on that same path."
   ]
  },
  {
   "cell_type": "markdown",
   "id": "33189b60",
   "metadata": {},
   "source": [
    "# What is the difference between the delete functions in the send2trash and shutil modules?\n",
    "\n",
    "# The send2trash functions will move a file or folder to the recycle bin, while shutil functions will permanently delete files and folders."
   ]
  },
  {
   "cell_type": "markdown",
   "id": "e1d40e80",
   "metadata": {},
   "source": [
    "# 4.ZipFile objects have a close() method just like File objects’ close() method. What ZipFile method is equivalent to File objects’ open() method?"
   ]
  },
  {
   "cell_type": "markdown",
   "id": "2cee9971",
   "metadata": {},
   "source": [
    "# The zipfile. ZipFile() function is equivalent to the open() function; the first argument is the filename, and the second argument is the mode to open the ZIP file in (read, write, or append)."
   ]
  },
  {
   "cell_type": "markdown",
   "id": "1d4bb31a",
   "metadata": {},
   "source": []
  },
  {
   "cell_type": "code",
   "execution_count": null,
   "id": "699c4bbd",
   "metadata": {},
   "outputs": [],
   "source": []
  }
 ],
 "metadata": {
  "kernelspec": {
   "display_name": "Python 3 (ipykernel)",
   "language": "python",
   "name": "python3"
  },
  "language_info": {
   "codemirror_mode": {
    "name": "ipython",
    "version": 3
   },
   "file_extension": ".py",
   "mimetype": "text/x-python",
   "name": "python",
   "nbconvert_exporter": "python",
   "pygments_lexer": "ipython3",
   "version": "3.9.12"
  }
 },
 "nbformat": 4,
 "nbformat_minor": 5
}
