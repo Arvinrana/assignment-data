{
 "cells": [
  {
   "cell_type": "code",
   "execution_count": 1,
   "id": "07852743",
   "metadata": {},
   "outputs": [],
   "source": [
    "# 1. Why are functions advantageous to have in your programs?"
   ]
  },
  {
   "cell_type": "code",
   "execution_count": 4,
   "id": "053eee76",
   "metadata": {},
   "outputs": [
    {
     "name": "stdout",
     "output_type": "stream",
     "text": [
      "The advantages of using functions are:\n",
      "Reducing duplication of code.\n",
      "Decomposing complex problems into simpler pieces.\n",
      "Improving clarity of the code.\n",
      "Reuse of code.\n",
      "Information hiding\n"
     ]
    }
   ],
   "source": [
    "answer =    '''The advantages of using functions are:\n",
    "Reducing duplication of code.\n",
    "Decomposing complex problems into simpler pieces.\n",
    "Improving clarity of the code.\n",
    "Reuse of code.\n",
    "Information hiding'''\n",
    "print(answer)"
   ]
  },
  {
   "cell_type": "markdown",
   "id": "de39c4d0",
   "metadata": {},
   "source": [
    "# 2. When does the code in a function run: when it  specified or when it called?"
   ]
  },
  {
   "cell_type": "markdown",
   "id": "987e193a",
   "metadata": {},
   "source": [
    "# answer = when it is called "
   ]
  },
  {
   "cell_type": "markdown",
   "id": "d93ee859",
   "metadata": {},
   "source": [
    "\n",
    "# What statement creates a function?"
   ]
  },
  {
   "cell_type": "code",
   "execution_count": 5,
   "id": "abcf7d5b",
   "metadata": {},
   "outputs": [
    {
     "data": {
      "text/plain": [
       "'hello'"
      ]
     },
     "execution_count": 5,
     "metadata": {},
     "output_type": "execute_result"
    }
   ],
   "source": [
    "def function(n):\n",
    "    return n\n",
    "\n",
    "function(\"hello\")  #  in above code def means define . which is definig the code "
   ]
  },
  {
   "cell_type": "markdown",
   "id": "cc1da6e1",
   "metadata": {},
   "source": [
    "# 4. What is the difference between a function and a function call?"
   ]
  },
  {
   "cell_type": "code",
   "execution_count": 6,
   "id": "c87b5682",
   "metadata": {},
   "outputs": [],
   "source": [
    "# function is condition here programmer define the code \n",
    "# and function call is  programmer call the function with paramters to get output"
   ]
  },
  {
   "cell_type": "markdown",
   "id": "f5f33cbd",
   "metadata": {},
   "source": [
    "# 5. How many global scopes are there in a Python program? How many local scopes?"
   ]
  },
  {
   "cell_type": "code",
   "execution_count": 7,
   "id": "9fd895c9",
   "metadata": {},
   "outputs": [],
   "source": [
    "# local scope has two scope \n",
    " #   and global scope has only one scope "
   ]
  },
  {
   "cell_type": "markdown",
   "id": "12c59327",
   "metadata": {},
   "source": [
    "# 6. What happens to variables in a local scope when the function call returns?\n",
    "#When the execution of the function terminates (returns), the local variables are destroyed."
   ]
  },
  {
   "cell_type": "markdown",
   "id": "d47ae5fb",
   "metadata": {},
   "source": [
    "# 7. What is the concept of a return value? Is it possible to have a return value in an expression?"
   ]
  },
  {
   "cell_type": "markdown",
   "id": "dcf25dd5",
   "metadata": {},
   "source": [
    "# answer\n",
    "\n",
    "# the concept of return function is to return the value when it completes the  execution . \n",
    "# yes , it is possible to have enxpression in retunrn function "
   ]
  },
  {
   "cell_type": "markdown",
   "id": "46dd2d79",
   "metadata": {},
   "source": [
    "#  8 . If a function does not have a return statement, what is the return value of a call to that function?"
   ]
  },
  {
   "cell_type": "code",
   "execution_count": 8,
   "id": "d2718b2b",
   "metadata": {},
   "outputs": [],
   "source": [
    "# if function has not return value then interpreter throws an error of syntax error  "
   ]
  },
  {
   "cell_type": "markdown",
   "id": "161f80c4",
   "metadata": {},
   "source": [
    "# 9. How do you make a function variable refer to the global variable?"
   ]
  },
  {
   "cell_type": "code",
   "execution_count": 14,
   "id": "3b14259e",
   "metadata": {},
   "outputs": [
    {
     "data": {
      "text/plain": [
       "30"
      ]
     },
     "execution_count": 14,
     "metadata": {},
     "output_type": "execute_result"
    }
   ],
   "source": [
    "x = 100  # global variable \n",
    "def addi():\n",
    "    x = 10\n",
    "    y  = 20 #  local variable \n",
    "    return x + y\n",
    "\n",
    "addi()\n",
    "    "
   ]
  },
  {
   "cell_type": "markdown",
   "id": "b94bd0a2",
   "metadata": {},
   "source": [
    "# What is the data type of None?"
   ]
  },
  {
   "cell_type": "code",
   "execution_count": 15,
   "id": "251b6239",
   "metadata": {},
   "outputs": [],
   "source": [
    "# None is a data type of its own (NoneType) and only None can be None."
   ]
  },
  {
   "cell_type": "markdown",
   "id": "f2a7b226",
   "metadata": {},
   "source": [
    "# 11. What does the sentence import areallyourpetsnamederic do?"
   ]
  },
  {
   "cell_type": "markdown",
   "id": "b7fde562",
   "metadata": {},
   "source": [
    "# didnt get the question "
   ]
  },
  {
   "cell_type": "markdown",
   "id": "2cdb9ada",
   "metadata": {},
   "source": [
    "# 12. If you had a bacon() feature in a spam module, what would you call it after importing spam? "
   ]
  },
  {
   "cell_type": "code",
   "execution_count": 16,
   "id": "a3746341",
   "metadata": {},
   "outputs": [],
   "source": [
    "# answer This function can be called with spam. bacon()."
   ]
  },
  {
   "cell_type": "markdown",
   "id": "d85c4476",
   "metadata": {},
   "source": [
    "# 13. What can you do to save a programme from crashing if it encounters an error?"
   ]
  },
  {
   "cell_type": "markdown",
   "id": "c0e4a972",
   "metadata": {},
   "source": [
    "#  ANSER -> If an error occurs in a program, we don't want the program to unexpectedly crash on the user. Instead, error handling can be used to notify the user of why the error occurred and gracefully exit the process that caused the error."
   ]
  },
  {
   "cell_type": "markdown",
   "id": "3cd7b006",
   "metadata": {},
   "source": [
    "# 14. What is the purpose of the try clause? What is the purpose of the except clause?"
   ]
  },
  {
   "cell_type": "code",
   "execution_count": 17,
   "id": "a121c913",
   "metadata": {},
   "outputs": [],
   "source": [
    "# THE PURPOSE OF THE TRY CLAUSE IS TO TRY TO EXECUTE THE CODE WITHOUT GETTING ANY ERROR IF ERROR FALLS ON IT . \n",
    "# AND THE PURPOSE OF EXCEPT CLAUSE IS TO EXECUTE THE CODE WHICH GIVES OUTPUT IN SPECIFIC ERROR "
   ]
  },
  {
   "cell_type": "code",
   "execution_count": null,
   "id": "e23653c0",
   "metadata": {},
   "outputs": [],
   "source": []
  }
 ],
 "metadata": {
  "kernelspec": {
   "display_name": "Python 3 (ipykernel)",
   "language": "python",
   "name": "python3"
  },
  "language_info": {
   "codemirror_mode": {
    "name": "ipython",
    "version": 3
   },
   "file_extension": ".py",
   "mimetype": "text/x-python",
   "name": "python",
   "nbconvert_exporter": "python",
   "pygments_lexer": "ipython3",
   "version": "3.9.12"
  }
 },
 "nbformat": 4,
 "nbformat_minor": 5
}
