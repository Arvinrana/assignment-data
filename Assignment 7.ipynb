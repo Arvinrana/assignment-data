{
 "cells": [
  {
   "cell_type": "markdown",
   "id": "ddfb202f",
   "metadata": {},
   "source": [
    "# 1. What is the name of the feature responsible for generating Regex objects?"
   ]
  },
  {
   "cell_type": "markdown",
   "id": "aad58c0d",
   "metadata": {},
   "source": [
    "# re.compile() function returns the regerex objects "
   ]
  },
  {
   "cell_type": "markdown",
   "id": "4d88df8e",
   "metadata": {},
   "source": [
    "# 2. Why do raw strings often appear in Regex objects?"
   ]
  },
  {
   "cell_type": "markdown",
   "id": "fd860790",
   "metadata": {},
   "source": [
    "# Raw strings are used so that backslashes do not have to be escaped."
   ]
  },
  {
   "cell_type": "markdown",
   "id": "95ed627e",
   "metadata": {},
   "source": [
    "# 3. What is the return value of the search() method?"
   ]
  },
  {
   "cell_type": "markdown",
   "id": "306dbae0",
   "metadata": {},
   "source": [
    "# The function searches for some substring in a string and returns a match object if found, else it returns none."
   ]
  },
  {
   "cell_type": "markdown",
   "id": "3acbf9d8",
   "metadata": {},
   "source": [
    "# 4. From a Match item, how do you get the actual strings that match the pattern?"
   ]
  },
  {
   "cell_type": "markdown",
   "id": "318867b2",
   "metadata": {},
   "source": [
    " # To match a character in the string expression against a list of characters. Put brackets ( [ ] ) in the pattern string, and inside the brackets put the list of characters"
   ]
  },
  {
   "cell_type": "markdown",
   "id": "4c4d7caa",
   "metadata": {},
   "source": [
    "# 5. In the regex which created from the r&#39;(\\d\\d\\d)-(\\d\\d\\d-\\d\\d\\d\\d)&#39;, what does group zero cover?\n",
    "# Group 2? Group 1?"
   ]
  },
  {
   "cell_type": "markdown",
   "id": "608e58e9",
   "metadata": {},
   "source": [
    "# Group 0 is the entire match, group 1 covers the first set of parentheses, and group 2 covers the second set of parentheses."
   ]
  },
  {
   "cell_type": "markdown",
   "id": "cd6ea885",
   "metadata": {},
   "source": [
    "# The findall() method returns a string list or a list of string tuples. What causes it to return one of\n",
    "# the two options?"
   ]
  },
  {
   "cell_type": "markdown",
   "id": "4d72cf92",
   "metadata": {},
   "source": [
    "# If the regex has no groups, a list of strings is returned. If the regex has groups, a list of tuples of strings is returned."
   ]
  },
  {
   "cell_type": "markdown",
   "id": "c0b40f59",
   "metadata": {},
   "source": [
    "# 8. In standard expressions, what does the | character mean?\n",
    "# answer = |   -->  it is define as or . "
   ]
  },
  {
   "cell_type": "markdown",
   "id": "655a8415",
   "metadata": {},
   "source": [
    "# 10.In regular expressions, what is the difference between the + and * characters?"
   ]
  },
  {
   "cell_type": "markdown",
   "id": "c4a48b47",
   "metadata": {},
   "source": [
    "# Regular expression operators '+' and '*'are both greedy and match as many terms as possible. The difference between '+' and '*' is the minimum number of matches."
   ]
  },
  {
   "cell_type": "markdown",
   "id": "2ad6fc35",
   "metadata": {},
   "source": [
    "# What is the difference between {4} and {4,5} in regular expression?"
   ]
  },
  {
   "cell_type": "markdown",
   "id": "80d3811f",
   "metadata": {},
   "source": [
    "# 13. What do means by \\D, \\W, and \\S shorthand character classes signify in regular expressions?"
   ]
  },
  {
   "cell_type": "markdown",
   "id": "382dffe5",
   "metadata": {},
   "source": [
    "# The \\D, \\W, and \\S shorthand character classes match a single character that is not a digit, word, or space character, respectively.\n"
   ]
  },
  {
   "cell_type": "markdown",
   "id": "822cf781",
   "metadata": {},
   "source": [
    " # What is the difference between .* ? and .* ?"
   ]
  },
  {
   "cell_type": "markdown",
   "id": "ba0e8207",
   "metadata": {},
   "source": [
    "# 15. What is the syntax for matching both numbers and lowercase letters with a character class?"
   ]
  },
  {
   "cell_type": "markdown",
   "id": "2e86d31c",
   "metadata": {},
   "source": [
    "# But with the help of Regular Expression, we can make the Java Regular Expression case-insensitive. There are two ways to make Regular Expression case-insensitive: Using CASE_INSENSITIVE flag. Using modifier"
   ]
  },
  {
   "cell_type": "markdown",
   "id": "cafab55e",
   "metadata": {},
   "source": [
    "# What does the . character normally match? What does it match if re.DOTALL is passed as 2nd\n",
    "# argument in re.compile()?"
   ]
  },
  {
   "cell_type": "markdown",
   "id": "13bb2267",
   "metadata": {},
   "source": [
    "# character normally matches any character except the newline character. If re. DOTALL is passed as the second argument to re. compile(), then the dot will also match newline characters."
   ]
  },
  {
   "cell_type": "markdown",
   "id": "0ab7e540",
   "metadata": {},
   "source": []
  },
  {
   "cell_type": "code",
   "execution_count": null,
   "id": "18b6bf8e",
   "metadata": {},
   "outputs": [],
   "source": []
  },
  {
   "cell_type": "code",
   "execution_count": null,
   "id": "6e5e5899",
   "metadata": {},
   "outputs": [],
   "source": [
    "\n"
   ]
  },
  {
   "cell_type": "code",
   "execution_count": null,
   "id": "e34796db",
   "metadata": {},
   "outputs": [],
   "source": []
  }
 ],
 "metadata": {
  "kernelspec": {
   "display_name": "Python 3 (ipykernel)",
   "language": "python",
   "name": "python3"
  },
  "language_info": {
   "codemirror_mode": {
    "name": "ipython",
    "version": 3
   },
   "file_extension": ".py",
   "mimetype": "text/x-python",
   "name": "python",
   "nbconvert_exporter": "python",
   "pygments_lexer": "ipython3",
   "version": "3.9.12"
  }
 },
 "nbformat": 4,
 "nbformat_minor": 5
}
