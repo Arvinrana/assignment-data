{
 "cells": [
  {
   "cell_type": "markdown",
   "id": "8a3bbbb0",
   "metadata": {},
   "source": [
    "# To what does a relative path refer?\n",
    "\n",
    " # A relative path refers to a location that is relative to a current directory. "
   ]
  },
  {
   "cell_type": "markdown",
   "id": "a047e34a",
   "metadata": {},
   "source": [
    "# What does an absolute path start with your operating system?\n",
    "\n",
    "# An absolute path is defined as the specifying the location of a file or directory from the root directory(/). In other words we can say absolute path is a complete path from start of actual filesystem from / directory."
   ]
  },
  {
   "cell_type": "markdown",
   "id": "e63a7845",
   "metadata": {},
   "source": [
    "# What do the functions os.getcwd() and os.chdir() do?\n",
    "\n",
    "\n",
    "# getcwd() : CWD stands for Current Working Directory. This function allows you to see what your current working directory is. chdir(\"path-to-dir\") : Short for CHange DIRectory, this function allows you to set the current working directory to a path of your choic"
   ]
  },
  {
   "cell_type": "markdown",
   "id": "6739040c",
   "metadata": {},
   "source": [
    "# What are the . and .. folders?\n",
    "\n",
    "\n",
    "\n",
    "# as mentioned in above  question '. ' represents the current directory. While '..' represents the parent directory"
   ]
  },
  {
   "cell_type": "markdown",
   "id": "077f442d",
   "metadata": {},
   "source": [
    " # In C:\\bacon\\eggs\\spam.txt, which part is the dir name, and which part is the base name?\n",
    " \n",
    " #  C:\\bacon\\eggs is the dir name, while spam. txt is the base name."
   ]
  },
  {
   "cell_type": "markdown",
   "id": "bc05ca22",
   "metadata": {},
   "source": [
    "# What are the three “mode” arguments that can be passed to the open() function?\n",
    "\n",
    "# r : Opens the file in read-only mode. ...\n",
    "# rb : Opens the file as read-only in binary format and starts reading from the beginning of the file. ...\n",
    "# r+ : Opens a file for reading and writing, placing the pointer at the beginning of the file."
   ]
  },
  {
   "cell_type": "markdown",
   "id": "2818cda4",
   "metadata": {},
   "source": [
    "# What happens if an existing file is opened in write mode? \n",
    "\n",
    "\n",
    "# When mode “w” is specified, it creates an empty file for output operations. What if the file already exists? If a file with the same name already exists, its contents are discarded and the file is treated as a new empty file"
   ]
  },
  {
   "cell_type": "markdown",
   "id": "6730228e",
   "metadata": {},
   "source": [
    "# How do you tell the difference between read() and readlines()?\n",
    "\n",
    "# The read() will read the whole file at once and then print out the first characters that take up as many bytes as you specify in the parenthesis versus the readline() that will read and print out only the first characters that take up as many bytes as you specify in the parenthesis"
   ]
  },
  {
   "cell_type": "markdown",
   "id": "ca71ce4d",
   "metadata": {},
   "source": [
    "# What data structure does a shelf value resemble?\n",
    "\n",
    "#  A shelf value resembles a dictionary value; it has keys and values, along with keys() and values() methods that work similarly to the dictionary methods of the same names."
   ]
  },
  {
   "cell_type": "code",
   "execution_count": null,
   "id": "ac6ea236",
   "metadata": {},
   "outputs": [],
   "source": []
  }
 ],
 "metadata": {
  "kernelspec": {
   "display_name": "Python 3 (ipykernel)",
   "language": "python",
   "name": "python3"
  },
  "language_info": {
   "codemirror_mode": {
    "name": "ipython",
    "version": 3
   },
   "file_extension": ".py",
   "mimetype": "text/x-python",
   "name": "python",
   "nbconvert_exporter": "python",
   "pygments_lexer": "ipython3",
   "version": "3.9.12"
  }
 },
 "nbformat": 4,
 "nbformat_minor": 5
}
