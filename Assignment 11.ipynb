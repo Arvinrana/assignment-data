{
 "cells": [
  {
   "cell_type": "markdown",
   "id": "4f9e813b",
   "metadata": {},
   "source": [
    "# Create an assert statement that throws an AssertionError if the variable spam is a negative integer."
   ]
  },
  {
   "cell_type": "code",
   "execution_count": 6,
   "id": "90e80615",
   "metadata": {},
   "outputs": [
    {
     "ename": "AssertionError",
     "evalue": "",
     "output_type": "error",
     "traceback": [
      "\u001b[1;31m---------------------------------------------------------------------------\u001b[0m",
      "\u001b[1;31mAssertionError\u001b[0m                            Traceback (most recent call last)",
      "Input \u001b[1;32mIn [6]\u001b[0m, in \u001b[0;36m<cell line: 2>\u001b[1;34m()\u001b[0m\n\u001b[0;32m      1\u001b[0m A \u001b[38;5;241m=\u001b[39m \u001b[38;5;241m-\u001b[39m\u001b[38;5;241m1\u001b[39m\n\u001b[1;32m----> 2\u001b[0m \u001b[38;5;28;01massert\u001b[39;00m A \u001b[38;5;241m>\u001b[39m \u001b[38;5;241m1\u001b[39m\n\u001b[0;32m      3\u001b[0m \u001b[38;5;28mprint\u001b[39m(\u001b[38;5;124m\"\u001b[39m\u001b[38;5;124myes\u001b[39m\u001b[38;5;124m\"\u001b[39m)\n",
      "\u001b[1;31mAssertionError\u001b[0m: "
     ]
    }
   ],
   "source": [
    "A = -1\n",
    "assert A > 1\n",
    "print(\"yes\")"
   ]
  },
  {
   "cell_type": "markdown",
   "id": "e9042ffe",
   "metadata": {},
   "source": [
    "# Write an assert statement that triggers an AssertionError if the variables eggs and bacon contain\n",
    "# strings that are the same as each other, even if their cases are different (that is, &#39;hello&#39; and &#39;hello&#39; are\n",
    "# considered the same, and &#39;goodbye&#39; and &#39;GOODbye&#39; are also considered the same)."
   ]
  },
  {
   "cell_type": "code",
   "execution_count": 14,
   "id": "4bcdd6f4",
   "metadata": {},
   "outputs": [
    {
     "ename": "AssertionError",
     "evalue": "",
     "output_type": "error",
     "traceback": [
      "\u001b[1;31m---------------------------------------------------------------------------\u001b[0m",
      "\u001b[1;31mAssertionError\u001b[0m                            Traceback (most recent call last)",
      "Input \u001b[1;32mIn [14]\u001b[0m, in \u001b[0;36m<cell line: 3>\u001b[1;34m()\u001b[0m\n\u001b[0;32m      1\u001b[0m eggs \u001b[38;5;241m=\u001b[39m \u001b[38;5;124m\"\u001b[39m\u001b[38;5;124mhello\u001b[39m\u001b[38;5;124m\"\u001b[39m\n\u001b[0;32m      2\u001b[0m bacon \u001b[38;5;241m=\u001b[39m \u001b[38;5;124m\"\u001b[39m\u001b[38;5;124mhello\u001b[39m\u001b[38;5;124m\"\u001b[39m\n\u001b[1;32m----> 3\u001b[0m \u001b[38;5;28;01massert\u001b[39;00m eggs\u001b[38;5;241m.\u001b[39mlower() \u001b[38;5;241m!=\u001b[39m bacon\u001b[38;5;241m.\u001b[39mlower()\n\u001b[0;32m      4\u001b[0m \u001b[38;5;28mprint\u001b[39m(\u001b[38;5;124m'\u001b[39m\u001b[38;5;124mThe eggs and bacon variables are the same!\u001b[39m\u001b[38;5;124m'\u001b[39m)\n\u001b[0;32m      5\u001b[0m \u001b[38;5;28;01massert\u001b[39;00m eggs\u001b[38;5;241m.\u001b[39mupper() \u001b[38;5;241m!=\u001b[39m bacon\u001b[38;5;241m.\u001b[39mupper()\n",
      "\u001b[1;31mAssertionError\u001b[0m: "
     ]
    }
   ],
   "source": [
    "eggs = \"hello\"\n",
    "bacon = \"hello\"\n",
    "assert eggs.lower() != bacon.lower()\n",
    "print('The eggs and bacon variables are the same!')\n",
    "assert eggs.upper() != bacon.upper()\n",
    "print('The eggs and bacon variables are the same!')"
   ]
  },
  {
   "cell_type": "markdown",
   "id": "d168fff9",
   "metadata": {},
   "source": [
    "# Create an assert statement that throws an AssertionError every time.\n",
    "\n"
   ]
  },
  {
   "cell_type": "code",
   "execution_count": 16,
   "id": "61817e7e",
   "metadata": {},
   "outputs": [
    {
     "ename": "AssertionError",
     "evalue": "",
     "output_type": "error",
     "traceback": [
      "\u001b[1;31m---------------------------------------------------------------------------\u001b[0m",
      "\u001b[1;31mAssertionError\u001b[0m                            Traceback (most recent call last)",
      "Input \u001b[1;32mIn [16]\u001b[0m, in \u001b[0;36m<cell line: 4>\u001b[1;34m()\u001b[0m\n\u001b[0;32m      1\u001b[0m x \u001b[38;5;241m=\u001b[39m \u001b[38;5;241m0\u001b[39m\n\u001b[0;32m      2\u001b[0m y \u001b[38;5;241m=\u001b[39m \u001b[38;5;241m1\u001b[39m\n\u001b[1;32m----> 4\u001b[0m \u001b[38;5;28;01massert\u001b[39;00m x \u001b[38;5;241m!=\u001b[39m \u001b[38;5;241m0\u001b[39m \n\u001b[0;32m      5\u001b[0m \u001b[38;5;28mprint\u001b[39m(\u001b[38;5;124m\"\u001b[39m\u001b[38;5;124minvalid \u001b[39m\u001b[38;5;124m\"\u001b[39m)\n\u001b[0;32m      6\u001b[0m \u001b[38;5;28mprint\u001b[39m(x\u001b[38;5;241m/\u001b[39my)\n",
      "\u001b[1;31mAssertionError\u001b[0m: "
     ]
    }
   ],
   "source": [
    "x = 0\n",
    "y = 1\n",
    "\n",
    "assert x != 0 \n",
    "print(\"invalid \")\n",
    "print(x/y)"
   ]
  },
  {
   "cell_type": "markdown",
   "id": "f2a73c0d",
   "metadata": {},
   "source": [
    "# What are the two lines that must be present in your software in order to call logging.debug()?"
   ]
  },
  {
   "cell_type": "markdown",
   "id": "525e87db",
   "metadata": {},
   "source": [
    "# import logging\n",
    "# logging.basicConfig(level=logging.DEBUG, format=' %(asctime)s -\n",
    "# %(levelname)s - %(message)s')"
   ]
  },
  {
   "cell_type": "markdown",
   "id": "cdef9407",
   "metadata": {},
   "source": [
    "# What are the two lines that your program must have in order to have logging.debug() send a logging message to a file named programLog.txt?"
   ]
  },
  {
   "cell_type": "markdown",
   "id": "a5782b3b",
   "metadata": {},
   "source": [
    "# import logging\n",
    "# logging.basicConfig(\n",
    " #   filename='programLog.txt',\n",
    "  #  level=logging.DEBUG,\n",
    " #   format='%(asctime)s - %(levelname)s - %(message)s'\n",
    "# )"
   ]
  },
  {
   "cell_type": "markdown",
   "id": "946974b8",
   "metadata": {},
   "source": [
    "# What are the five levels of logging?"
   ]
  },
  {
   "cell_type": "markdown",
   "id": "4c554f47",
   "metadata": {},
   "source": [
    "# the 5 level of logging are:\n",
    "# 1. warning\n",
    "# 2. Info\n",
    "# 3. Debug\n",
    "# 4 . error\n",
    "# 5. critical  "
   ]
  },
  {
   "cell_type": "markdown",
   "id": "3bbe4d2d",
   "metadata": {},
   "source": [
    "# What line of code would you add to your software to disable all logging messages?"
   ]
  },
  {
   "cell_type": "markdown",
   "id": "c43518a7",
   "metadata": {},
   "source": [
    "# getLogger('my-logger') logger. propagate = False"
   ]
  },
  {
   "cell_type": "markdown",
   "id": "8fdf9eef",
   "metadata": {},
   "source": [
    "# 8.Why is using logging messages better than using print() to display the same message?"
   ]
  },
  {
   "cell_type": "markdown",
   "id": "41733488",
   "metadata": {},
   "source": [
    "# One of the advantages of using the logging module to track our codes is the ability to format the messages based on our needs"
   ]
  },
  {
   "cell_type": "markdown",
   "id": "c41eac8f",
   "metadata": {},
   "source": [
    "# What are the differences between the Step Over, Step In, and Step Out buttons in the debugger?"
   ]
  },
  {
   "cell_type": "markdown",
   "id": "c99518de",
   "metadata": {},
   "source": [
    "# If the current line contains a function call, Step Over runs the code and then suspends execution at the first line of code after the called function returns. Step Out continues running code and suspends execution when the current function returns. The debugger skips through the current function."
   ]
  },
  {
   "cell_type": "markdown",
   "id": "ee4d720c",
   "metadata": {},
   "source": [
    "# 10.After you click Continue, when will the debugger stop ?"
   ]
  },
  {
   "cell_type": "markdown",
   "id": "7ab4a8f0",
   "metadata": {},
   "source": [
    "# Continue execution, only stop when a breakpoint is encountered. Set the next line that will be executed."
   ]
  },
  {
   "cell_type": "markdown",
   "id": "03ee3acc",
   "metadata": {},
   "source": [
    "# What is the concept of a breakpoint?"
   ]
  },
  {
   "cell_type": "markdown",
   "id": "219c96c6",
   "metadata": {},
   "source": [
    "# a breakpoint is an intentional stopping or pausing place in a program, put in place for debugging purposes. It is also sometimes simply referred to as a pause."
   ]
  },
  {
   "cell_type": "code",
   "execution_count": null,
   "id": "3961b631",
   "metadata": {},
   "outputs": [],
   "source": []
  }
 ],
 "metadata": {
  "kernelspec": {
   "display_name": "Python 3 (ipykernel)",
   "language": "python",
   "name": "python3"
  },
  "language_info": {
   "codemirror_mode": {
    "name": "ipython",
    "version": 3
   },
   "file_extension": ".py",
   "mimetype": "text/x-python",
   "name": "python",
   "nbconvert_exporter": "python",
   "pygments_lexer": "ipython3",
   "version": "3.9.12"
  }
 },
 "nbformat": 4,
 "nbformat_minor": 5
}
