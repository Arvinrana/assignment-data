{
 "cells": [
  {
   "cell_type": "markdown",
   "id": "75934bba",
   "metadata": {},
   "source": [
    "# 1. What are escape characters, and how do you use them?"
   ]
  },
  {
   "cell_type": "markdown",
   "id": "81795357",
   "metadata": {},
   "source": [
    " # answer Escape characters represent characters in string values that would otherwise be difficult or impossible to type into code. "
   ]
  },
  {
   "cell_type": "markdown",
   "id": "d700b8d5",
   "metadata": {},
   "source": [
    "# 2. What do the escape characters n and t stand for?"
   ]
  },
  {
   "cell_type": "markdown",
   "id": "ed09cdf7",
   "metadata": {},
   "source": [
    "# answer :  \\n define new line and \\t  is tab"
   ]
  },
  {
   "cell_type": "markdown",
   "id": "993e2749",
   "metadata": {},
   "source": [
    "# 3. What is the way to include backslash characters in a string?"
   ]
  },
  {
   "cell_type": "code",
   "execution_count": 1,
   "id": "393bedd0",
   "metadata": {},
   "outputs": [
    {
     "name": "stdout",
     "output_type": "stream",
     "text": [
      "enter the new line \n",
      " 46\n",
      "hey \n",
      " how are you \n",
      "\n"
     ]
    }
   ],
   "source": [
    "# for eg:\n",
    "user = input(\"enter the new line \\n \")\n",
    "\n",
    "# eg 2 \n",
    "\n",
    "print(\"hey \\n how are you \\n\")\n"
   ]
  },
  {
   "cell_type": "markdown",
   "id": "df2113ea",
   "metadata": {},
   "source": [
    "# 4. The string &quot;Howl&#39;s Moving Castle&quot; is a correct value. Why isn&#39;t the single quote character in the\n",
    "# word Howl&#39;s not escaped a problem?"
   ]
  },
  {
   "cell_type": "code",
   "execution_count": 2,
   "id": "a82ecb55",
   "metadata": {},
   "outputs": [],
   "source": [
    "d = \"howl's moving castle\""
   ]
  },
  {
   "cell_type": "code",
   "execution_count": 3,
   "id": "f09728ad",
   "metadata": {},
   "outputs": [
    {
     "name": "stdout",
     "output_type": "stream",
     "text": [
      "howl's moving castle\n"
     ]
    }
   ],
   "source": [
    "print(d)\n",
    "# the single quote character in the word howl's didnt get error because : it is quoted in double comma \" \"\n",
    "# which makes it string value"
   ]
  },
  {
   "cell_type": "markdown",
   "id": "823bf7f8",
   "metadata": {},
   "source": [
    "# 5. How do you write a string of newlines if you don&#39;t want to use the n character?"
   ]
  },
  {
   "cell_type": "code",
   "execution_count": 4,
   "id": "30631a65",
   "metadata": {},
   "outputs": [
    {
     "name": "stdout",
     "output_type": "stream",
     "text": [
      "\n",
      "    hey, how are you\n",
      "    all good ?\n",
      "\n",
      "\n"
     ]
    }
   ],
   "source": [
    "p = '''\n",
    "    hey, how are you\n",
    "    all good ?\n",
    "\n",
    "'''\n",
    "print(p)\n"
   ]
  },
  {
   "cell_type": "markdown",
   "id": "f485605a",
   "metadata": {},
   "source": [
    "# 6. What are the values of the given expressions?\n",
    "# &#39;Hello, world!&#39;[1]\n",
    "# &#39;Hello, world!&#39;[0:5]\n",
    "# &#39;Hello, world!&#39;[:5]\n",
    "# &#39;Hello, world!&#39;[3:]"
   ]
  },
  {
   "cell_type": "code",
   "execution_count": 5,
   "id": "5f59aec1",
   "metadata": {},
   "outputs": [
    {
     "ename": "IndexError",
     "evalue": "list index out of range",
     "output_type": "error",
     "traceback": [
      "\u001b[1;31m---------------------------------------------------------------------------\u001b[0m",
      "\u001b[1;31mIndexError\u001b[0m                                Traceback (most recent call last)",
      "Input \u001b[1;32mIn [5]\u001b[0m, in \u001b[0;36m<cell line: 2>\u001b[1;34m()\u001b[0m\n\u001b[0;32m      1\u001b[0m g \u001b[38;5;241m=\u001b[39m [\u001b[38;5;124m'\u001b[39m\u001b[38;5;124mhello , world!\u001b[39m\u001b[38;5;124m'\u001b[39m]\n\u001b[1;32m----> 2\u001b[0m \u001b[43mg\u001b[49m\u001b[43m[\u001b[49m\u001b[38;5;241;43m1\u001b[39;49m\u001b[43m]\u001b[49m\n",
      "\u001b[1;31mIndexError\u001b[0m: list index out of range"
     ]
    }
   ],
   "source": [
    "g = ['hello , world!']\n",
    "g[1]\n",
    "# throws an error :  list index out of range"
   ]
  },
  {
   "cell_type": "code",
   "execution_count": null,
   "id": "a2fb9415",
   "metadata": {},
   "outputs": [],
   "source": [
    "g[:5]"
   ]
  },
  {
   "cell_type": "code",
   "execution_count": null,
   "id": "fdf029d6",
   "metadata": {},
   "outputs": [],
   "source": [
    "g[3:]"
   ]
  },
  {
   "cell_type": "markdown",
   "id": "3619e731",
   "metadata": {},
   "source": [
    "# 7. What are the values of the following expressions?\n",
    "# &#39;Hello&#39;.upper()\n",
    "# &#39;Hello&#39;.upper().isupper()\n",
    "# &#39;Hello&#39;.upper().lower()"
   ]
  },
  {
   "cell_type": "code",
   "execution_count": 7,
   "id": "3939924a",
   "metadata": {},
   "outputs": [
    {
     "data": {
      "text/plain": [
       "'HELLO'"
      ]
     },
     "execution_count": 7,
     "metadata": {},
     "output_type": "execute_result"
    }
   ],
   "source": [
    "you = 'hello'\n",
    "you.upper()"
   ]
  },
  {
   "cell_type": "code",
   "execution_count": 8,
   "id": "7f8f277a",
   "metadata": {},
   "outputs": [
    {
     "data": {
      "text/plain": [
       "True"
      ]
     },
     "execution_count": 8,
     "metadata": {},
     "output_type": "execute_result"
    }
   ],
   "source": [
    "you.upper().isupper()"
   ]
  },
  {
   "cell_type": "code",
   "execution_count": 9,
   "id": "b9680c8a",
   "metadata": {},
   "outputs": [
    {
     "data": {
      "text/plain": [
       "'hello'"
      ]
     },
     "execution_count": 9,
     "metadata": {},
     "output_type": "execute_result"
    }
   ],
   "source": [
    "you.upper().lower()"
   ]
  },
  {
   "cell_type": "markdown",
   "id": "580bb373",
   "metadata": {},
   "source": [
    "# 8. What are the values of the following expressions?\n",
    "# &#39;Remember, remember, the fifth of July.&#39;.split()\n",
    "# &#39;-&#39;.join(&#39;There can only one.&#39;.split())"
   ]
  },
  {
   "cell_type": "code",
   "execution_count": 10,
   "id": "9929674c",
   "metadata": {},
   "outputs": [
    {
     "data": {
      "text/plain": [
       "['Remember', ',', 'remember', ',', 'the', 'fifth', 'of', 'july']"
      ]
     },
     "execution_count": 10,
     "metadata": {},
     "output_type": "execute_result"
    }
   ],
   "source": [
    "d = 'Remember , remember , the fifth of july '\n",
    "d.split()"
   ]
  },
  {
   "cell_type": "code",
   "execution_count": 13,
   "id": "768f1939",
   "metadata": {},
   "outputs": [
    {
     "data": {
      "text/plain": [
       "'RRemember , remember , the fifth of july eRemember , remember , the fifth of july mRemember , remember , the fifth of july eRemember , remember , the fifth of july mRemember , remember , the fifth of july bRemember , remember , the fifth of july eRemember , remember , the fifth of july rRemember , remember , the fifth of july  Remember , remember , the fifth of july ,Remember , remember , the fifth of july  Remember , remember , the fifth of july rRemember , remember , the fifth of july eRemember , remember , the fifth of july mRemember , remember , the fifth of july eRemember , remember , the fifth of july mRemember , remember , the fifth of july bRemember , remember , the fifth of july eRemember , remember , the fifth of july rRemember , remember , the fifth of july  Remember , remember , the fifth of july ,Remember , remember , the fifth of july  Remember , remember , the fifth of july tRemember , remember , the fifth of july hRemember , remember , the fifth of july eRemember , remember , the fifth of july  Remember , remember , the fifth of july fRemember , remember , the fifth of july iRemember , remember , the fifth of july fRemember , remember , the fifth of july tRemember , remember , the fifth of july hRemember , remember , the fifth of july  Remember , remember , the fifth of july oRemember , remember , the fifth of july fRemember , remember , the fifth of july  Remember , remember , the fifth of july jRemember , remember , the fifth of july uRemember , remember , the fifth of july lRemember , remember , the fifth of july yRemember , remember , the fifth of july  '"
      ]
     },
     "execution_count": 13,
     "metadata": {},
     "output_type": "execute_result"
    }
   ],
   "source": [
    "d.join(d)"
   ]
  },
  {
   "cell_type": "markdown",
   "id": "1c719946",
   "metadata": {},
   "source": [
    "# 9. What are the methods for right-justifying, left-justifying, and centering a string?"
   ]
  },
  {
   "cell_type": "code",
   "execution_count": 15,
   "id": "fe32ce7d",
   "metadata": {},
   "outputs": [],
   "source": [
    "f = \"hey, how are you guys?\"\n"
   ]
  },
  {
   "cell_type": "code",
   "execution_count": 22,
   "id": "13520b84",
   "metadata": {},
   "outputs": [
    {
     "data": {
      "text/plain": [
       "['__add__',\n",
       " '__class__',\n",
       " '__contains__',\n",
       " '__delattr__',\n",
       " '__dir__',\n",
       " '__doc__',\n",
       " '__eq__',\n",
       " '__format__',\n",
       " '__ge__',\n",
       " '__getattribute__',\n",
       " '__getitem__',\n",
       " '__getnewargs__',\n",
       " '__gt__',\n",
       " '__hash__',\n",
       " '__init__',\n",
       " '__init_subclass__',\n",
       " '__iter__',\n",
       " '__le__',\n",
       " '__len__',\n",
       " '__lt__',\n",
       " '__mod__',\n",
       " '__mul__',\n",
       " '__ne__',\n",
       " '__new__',\n",
       " '__reduce__',\n",
       " '__reduce_ex__',\n",
       " '__repr__',\n",
       " '__rmod__',\n",
       " '__rmul__',\n",
       " '__setattr__',\n",
       " '__sizeof__',\n",
       " '__str__',\n",
       " '__subclasshook__',\n",
       " 'capitalize',\n",
       " 'casefold',\n",
       " 'center',\n",
       " 'count',\n",
       " 'encode',\n",
       " 'endswith',\n",
       " 'expandtabs',\n",
       " 'find',\n",
       " 'format',\n",
       " 'format_map',\n",
       " 'index',\n",
       " 'isalnum',\n",
       " 'isalpha',\n",
       " 'isascii',\n",
       " 'isdecimal',\n",
       " 'isdigit',\n",
       " 'isidentifier',\n",
       " 'islower',\n",
       " 'isnumeric',\n",
       " 'isprintable',\n",
       " 'isspace',\n",
       " 'istitle',\n",
       " 'isupper',\n",
       " 'join',\n",
       " 'ljust',\n",
       " 'lower',\n",
       " 'lstrip',\n",
       " 'maketrans',\n",
       " 'partition',\n",
       " 'removeprefix',\n",
       " 'removesuffix',\n",
       " 'replace',\n",
       " 'rfind',\n",
       " 'rindex',\n",
       " 'rjust',\n",
       " 'rpartition',\n",
       " 'rsplit',\n",
       " 'rstrip',\n",
       " 'split',\n",
       " 'splitlines',\n",
       " 'startswith',\n",
       " 'strip',\n",
       " 'swapcase',\n",
       " 'title',\n",
       " 'translate',\n",
       " 'upper',\n",
       " 'zfill']"
      ]
     },
     "execution_count": 22,
     "metadata": {},
     "output_type": "execute_result"
    }
   ],
   "source": [
    "dir(f)"
   ]
  },
  {
   "cell_type": "markdown",
   "id": "a38ae429",
   "metadata": {},
   "source": [
    "\n",
    "\n",
    "# 10. What is the best way to remove whitespace characters from the start or end?"
   ]
  },
  {
   "cell_type": "markdown",
   "id": "d675bbfe",
   "metadata": {},
   "source": [
    "# answer : Use the . strip() method to remove whitespace and characters from the beginning and the end of a string. Use the . lstrip() method to remove whitespace and characters only from the beginning of a string"
   ]
  },
  {
   "cell_type": "code",
   "execution_count": null,
   "id": "f434aee0",
   "metadata": {},
   "outputs": [],
   "source": []
  }
 ],
 "metadata": {
  "kernelspec": {
   "display_name": "Python 3 (ipykernel)",
   "language": "python",
   "name": "python3"
  },
  "language_info": {
   "codemirror_mode": {
    "name": "ipython",
    "version": 3
   },
   "file_extension": ".py",
   "mimetype": "text/x-python",
   "name": "python",
   "nbconvert_exporter": "python",
   "pygments_lexer": "ipython3",
   "version": "3.9.12"
  }
 },
 "nbformat": 4,
 "nbformat_minor": 5
}
