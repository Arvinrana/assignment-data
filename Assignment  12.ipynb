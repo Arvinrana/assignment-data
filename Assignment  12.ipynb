{
 "cells": [
  {
   "cell_type": "markdown",
   "id": "6a1ed9a2",
   "metadata": {},
   "source": [
    "# In what modes should the PdfFileReader() and PdfFileWriter() File objects will be opened?\n",
    "\n",
    "\n",
    "#  For PdfFileReader() file objects should be opened in rb -> read binary mode, Whereas for PdfFileWriter() file objects should be opened in wb -> write binary mode."
   ]
  },
  {
   "cell_type": "markdown",
   "id": "990059fb",
   "metadata": {},
   "source": [
    "# From a PdfFileReader object, how do you get a Page object for page 5?"
   ]
  },
  {
   "cell_type": "markdown",
   "id": "f20a8e58",
   "metadata": {},
   "source": [
    "# getPage(5)"
   ]
  },
  {
   "cell_type": "markdown",
   "id": "7988f626",
   "metadata": {},
   "source": [
    "# What PdfFileReader variable stores the number of pages in the PDF document?"
   ]
  },
  {
   "cell_type": "markdown",
   "id": "0d56e9e2",
   "metadata": {},
   "source": [
    "#  numPages attribute of a PdfFileReader object"
   ]
  },
  {
   "cell_type": "markdown",
   "id": "fab7f25f",
   "metadata": {},
   "source": [
    "# What methods do you use to rotate a page?"
   ]
  },
  {
   "cell_type": "markdown",
   "id": "8d9690d7",
   "metadata": {},
   "source": [
    "# GetRotation()"
   ]
  },
  {
   "cell_type": "markdown",
   "id": "00a29540",
   "metadata": {},
   "source": [
    "# What is the difference between a Run object and a Paragraph object?"
   ]
  },
  {
   "cell_type": "markdown",
   "id": "576ecbd9",
   "metadata": {},
   "source": [
    "# A Run object demarcates a region of text within the paragraph and then a RunProperties object is used to apply bold formatting to the run\n",
    "\n",
    "# The ParagraphFormat object providing access to the formatting properties for this paragraph, such as line spacing and indentation. runs ¶ Sequence of Run instances corresponding to the <w:r> elements in this paragraph."
   ]
  },
  {
   "cell_type": "markdown",
   "id": "1c399d7e",
   "metadata": {},
   "source": [
    "# How do you obtain a list of Paragraph objects for a Document object that’s stored in a variable\n",
    "# named doc?\n",
    "# answer\n",
    "\n",
    "# import docx\n",
    "# doc = docx.Document('abc.docx')\n",
    "# doc.paragraphs"
   ]
  },
  {
   "cell_type": "markdown",
   "id": "5b3138b0",
   "metadata": {},
   "source": [
    "# What type of object has bold, underline, italic, strike, and outline variables? \n",
    "\n",
    "# A Run object has bold, underline,italic,strike and outline variables"
   ]
  },
  {
   "cell_type": "markdown",
   "id": "31fe0194",
   "metadata": {},
   "source": [
    "# Q. What is the difference between False, True, and None for the bold variable?\n",
    "\n",
    "# Runs can be further styled using text attributes. Each attribute can be set to one of three values:\n",
    "# True (the attribute is always enabled, no matter what other styles are applied to the run),\n",
    "# False (the attribute is always disabled),\n",
    "# None (defaults to whatever the run’s style is set to)\n",
    "\n",
    "# True always makes the Run object bolded and False makes it always not bolded, no matter what the style’s bold setting is. None will make the Run object just use the style’s bold setting"
   ]
  },
  {
   "cell_type": "markdown",
   "id": "bc163d14",
   "metadata": {},
   "source": [
    "# How do you create a Document object for a new Word document?\n",
    "\n",
    "# Calling the docx.Document() function."
   ]
  },
  {
   "cell_type": "markdown",
   "id": "1d5a800c",
   "metadata": {},
   "source": [
    "# How do you add a paragraph with the text &#39;Hello, there!&#39; to a Document object stored in a variable named doc?\n",
    "\n",
    "# import docx\n",
    "# doc = docx.Document()\n",
    "\n",
    "# doc.add_paragraph('Hello there!')\n",
    "# doc.save('hellothere.docx')"
   ]
  },
  {
   "cell_type": "markdown",
   "id": "fad2be6e",
   "metadata": {},
   "source": [
    "# What integers represent the levels of headings available in Word documents?\n",
    "\n",
    "\n",
    "# integer from 0 to 4\n",
    "# The arguments to add_heading() are a string of the heading text and an integer from 0 to 4. The integer 0 makes the heading the Title style, which is used for the top of the document. Integers 1 to 4 are for various heading levels, with 1 being the main heading and 4 the lowest subheading"
   ]
  },
  {
   "cell_type": "code",
   "execution_count": null,
   "id": "7e411589",
   "metadata": {},
   "outputs": [],
   "source": []
  }
 ],
 "metadata": {
  "kernelspec": {
   "display_name": "Python 3 (ipykernel)",
   "language": "python",
   "name": "python3"
  },
  "language_info": {
   "codemirror_mode": {
    "name": "ipython",
    "version": 3
   },
   "file_extension": ".py",
   "mimetype": "text/x-python",
   "name": "python",
   "nbconvert_exporter": "python",
   "pygments_lexer": "ipython3",
   "version": "3.9.12"
  }
 },
 "nbformat": 4,
 "nbformat_minor": 5
}
