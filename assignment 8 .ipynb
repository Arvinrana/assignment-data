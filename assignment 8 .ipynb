{
 "cells": [
  {
   "cell_type": "markdown",
   "id": "975c9505",
   "metadata": {},
   "source": [
    "# 1. Is the Python Standard Library included with PyInputPlus?"
   ]
  },
  {
   "cell_type": "markdown",
   "id": "85b03fc7",
   "metadata": {},
   "source": [
    "# answer : PyInputplus is not part of python standard library , we can install by using pip "
   ]
  },
  {
   "cell_type": "markdown",
   "id": "b637a9f9",
   "metadata": {},
   "source": [
    "# Why is PyInputPlus commonly imported with import pyinputplus as pypi?\n",
    "\n",
    "# answerYou can import the module with import pyinputplus as pyip so that you can enter a shorter name when calling the module's functions. PyInputPlus has functions for entering a variety of input, including strings, numbers, dates, yes/no, True/False, emails, and files."
   ]
  },
  {
   "cell_type": "markdown",
   "id": "3dc60e08",
   "metadata": {},
   "source": [
    "# 3. How do you distinguish between inputInt() and inputFloat()?\n",
    "\n",
    "\n",
    "# answer : inputInt() : Accepts an integer value. This also takes additional parameters 'min', 'max', 'greaterThan' and 'lessThan' for bounds. Returns an int. inputFloat() : Accepts a floating-point numeric value."
   ]
  },
  {
   "cell_type": "markdown",
   "id": "51d9c29a",
   "metadata": {},
   "source": [
    "# Using PyInputPlus, how do you ensure that the user enters a whole number between 0 and 99?"
   ]
  },
  {
   "cell_type": "markdown",
   "id": "dcffae8a",
   "metadata": {},
   "source": [
    "# A By using pyip. inputint(min=1, max=100) B "
   ]
  },
  {
   "cell_type": "markdown",
   "id": "bfecfc59",
   "metadata": {},
   "source": [
    "# What is transferred to the keyword arguments allowRegexes and blockRegexes?"
   ]
  },
  {
   "cell_type": "markdown",
   "id": "ca0f2c1a",
   "metadata": {},
   "source": [
    "# keyword arguments take a list of regular expression strings to determine what the PyInputPlus function will accept or reject as valid input."
   ]
  },
  {
   "cell_type": "markdown",
   "id": "a5c6f3ae",
   "metadata": {},
   "source": [
    "# If a blank input is entered three times, what does inputStr(limit=3) do?"
   ]
  },
  {
   "cell_type": "markdown",
   "id": "a1df5a98",
   "metadata": {},
   "source": [
    "# if it will in a loop  then it will break execution and exist from the loop or code "
   ]
  },
  {
   "cell_type": "markdown",
   "id": "02c4147b",
   "metadata": {},
   "source": [
    "# and it will throw and error  and return retrylimitexecution"
   ]
  },
  {
   "cell_type": "code",
   "execution_count": null,
   "id": "ffe954d0",
   "metadata": {},
   "outputs": [],
   "source": []
  }
 ],
 "metadata": {
  "kernelspec": {
   "display_name": "Python 3 (ipykernel)",
   "language": "python",
   "name": "python3"
  },
  "language_info": {
   "codemirror_mode": {
    "name": "ipython",
    "version": 3
   },
   "file_extension": ".py",
   "mimetype": "text/x-python",
   "name": "python",
   "nbconvert_exporter": "python",
   "pygments_lexer": "ipython3",
   "version": "3.9.12"
  }
 },
 "nbformat": 4,
 "nbformat_minor": 5
}
