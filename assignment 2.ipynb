{
 "cells": [
  {
   "cell_type": "markdown",
   "id": "489ed6d6",
   "metadata": {},
   "source": [
    "# 1.What are the two values of the Boolean data type? How do you write them?\n"
   ]
  },
  {
   "cell_type": "code",
   "execution_count": 1,
   "id": "090fc955",
   "metadata": {},
   "outputs": [],
   "source": [
    "# there is two values of booleans type is \n",
    "# 1,  true  = 1\n",
    "# 2.  False  = 2"
   ]
  },
  {
   "cell_type": "markdown",
   "id": "8011db91",
   "metadata": {},
   "source": [
    "# 2. What are the three different types of Boolean operators?"
   ]
  },
  {
   "cell_type": "code",
   "execution_count": 2,
   "id": "3df50e70",
   "metadata": {},
   "outputs": [],
   "source": [
    "# the three booleans types are \n",
    "# 1. true \n",
    "# 2. false \n",
    "# not , and or "
   ]
  },
  {
   "cell_type": "markdown",
   "id": "4ba7717a",
   "metadata": {},
   "source": [
    "# Make a list of each Boolean operator&#39;s truth tables (i.e. every possible combination of Boolean\n",
    "## values for the operator and what it evaluate )."
   ]
  },
  {
   "cell_type": "code",
   "execution_count": 6,
   "id": "c793e212",
   "metadata": {},
   "outputs": [
    {
     "name": "stdout",
     "output_type": "stream",
     "text": [
      "False\n",
      "False\n",
      "True\n"
     ]
    }
   ],
   "source": [
    "a = 20\n",
    "b = 40\n",
    "\n",
    "if a == b:\n",
    "    print(True)\n",
    "else:\n",
    "    print(False)\n",
    "if a > b :\n",
    "    print(True)\n",
    "else:\n",
    "    print(False)\n",
    "        \n",
    "if a < b:\n",
    "    print(True)\n",
    "else:\n",
    "    print(False)\n"
   ]
  },
  {
   "cell_type": "markdown",
   "id": "fc28a030",
   "metadata": {},
   "source": [
    "# 4. What are the values of the following expressions?"
   ]
  },
  {
   "cell_type": "code",
   "execution_count": 7,
   "id": "a71364c6",
   "metadata": {},
   "outputs": [
    {
     "name": "stdout",
     "output_type": "stream",
     "text": [
      "True\n"
     ]
    }
   ],
   "source": [
    "a = 5\n",
    "b = 4\n",
    "print(5>4)\n",
    "\n"
   ]
  },
  {
   "cell_type": "code",
   "execution_count": 8,
   "id": "ab2bcce9",
   "metadata": {},
   "outputs": [
    {
     "name": "stdout",
     "output_type": "stream",
     "text": [
      "False\n"
     ]
    }
   ],
   "source": [
    "s = 3==5\n",
    "print(s)"
   ]
  },
  {
   "cell_type": "code",
   "execution_count": 9,
   "id": "36eac04c",
   "metadata": {},
   "outputs": [
    {
     "name": "stdout",
     "output_type": "stream",
     "text": [
      "False\n"
     ]
    }
   ],
   "source": [
    "d = not (5 > 4)\n",
    "print(d)"
   ]
  },
  {
   "cell_type": "code",
   "execution_count": 10,
   "id": "883f092e",
   "metadata": {},
   "outputs": [
    {
     "name": "stdout",
     "output_type": "stream",
     "text": [
      "True\n"
     ]
    }
   ],
   "source": [
    "d2 = (5 > 4) or (3 == 5)\n",
    "print(d2)"
   ]
  },
  {
   "cell_type": "code",
   "execution_count": 11,
   "id": "62fed9ab",
   "metadata": {},
   "outputs": [
    {
     "name": "stdout",
     "output_type": "stream",
     "text": [
      "False\n"
     ]
    }
   ],
   "source": [
    "c = not ((5 > 4) or (3 == 5))\n",
    "print(c)"
   ]
  },
  {
   "cell_type": "markdown",
   "id": "a0154999",
   "metadata": {},
   "source": [
    "# 5. What are the six comparison operators?\n"
   ]
  },
  {
   "cell_type": "code",
   "execution_count": 14,
   "id": "88f682bb",
   "metadata": {},
   "outputs": [
    {
     "name": "stdout",
     "output_type": "stream",
     "text": [
      "Operator Name\n",
      "== Equal\tx == y\t\n",
      "!= Not equal\tx != y\t\n",
      "> Greater than\tx > y\t\n",
      "< Less than\tx < y\t\n",
      ">= Greater than or equal to\tx >= y\t\n",
      "<= Less than or equal to\tx <= y\t\n",
      "\n"
     ]
    }
   ],
   "source": [
    "print('''Operator Name\n",
    "== Equal\tx == y\t\n",
    "!= Not equal\tx != y\t\n",
    "> Greater than\tx > y\t\n",
    "< Less than\tx < y\t\n",
    ">= Greater than or equal to\tx >= y\t\n",
    "<= Less than or equal to\tx <= y\t\n",
    "''')"
   ]
  },
  {
   "cell_type": "markdown",
   "id": "b1b85ad0",
   "metadata": {},
   "source": [
    "# 6. How do you tell the difference between the equal to and assignment operators?Describe acondition and when you would use one."
   ]
  },
  {
   "cell_type": "markdown",
   "id": "f207de92",
   "metadata": {},
   "source": [
    "# ANSWER    = is an Assignment Operator it is used to assign the value of variable or expression, while == is an Equal to Operator and it is a relation operator used for comparison ."
   ]
  },
  {
   "cell_type": "code",
   "execution_count": 16,
   "id": "a791580a",
   "metadata": {},
   "outputs": [
    {
     "name": "stdout",
     "output_type": "stream",
     "text": [
      "0\n",
      "1\n",
      "2\n",
      "3\n",
      "4\n",
      "5\n",
      "6\n",
      "7\n",
      "8\n",
      "9\n"
     ]
    }
   ],
   "source": [
    "# example\n",
    "i = 0\n",
    "while i <10:\n",
    "    print(i)\n",
    "    i += 1"
   ]
  },
  {
   "cell_type": "code",
   "execution_count": 18,
   "id": "df9e1c98",
   "metadata": {},
   "outputs": [
    {
     "name": "stdout",
     "output_type": "stream",
     "text": [
      "7. Identify the three blocks in this code:\n",
      "spam = 0\n",
      "if spam == 10:\n",
      "print(eggs)\n",
      "if spam > 5:\n",
      "print(bacon)\n",
      "else:\n",
      "print(ham)\n",
      "print(spam)\n",
      "print(spam)\n",
      "\n"
     ]
    }
   ],
   "source": [
    "print('''7. Identify the three blocks in this code:\n",
    "spam = 0\n",
    "if spam == 10:\n",
    "print(eggs)\n",
    "if spam > 5:\n",
    "print(bacon)\n",
    "else:\n",
    "print(ham)\n",
    "print(spam)\n",
    "print(spam)\n",
    "'''\n",
    "     )"
   ]
  },
  {
   "cell_type": "markdown",
   "id": "de19e85c",
   "metadata": {},
   "source": [
    "# answer"
   ]
  },
  {
   "cell_type": "code",
   "execution_count": 19,
   "id": "a8418f7b",
   "metadata": {},
   "outputs": [
    {
     "name": "stdout",
     "output_type": "stream",
     "text": [
      "ham\n",
      "spam\n",
      "spam\n"
     ]
    }
   ],
   "source": [
    "spam  = 0\n",
    "if spam == 10:\n",
    "    print(\"eggs\")\n",
    "if spam > 5:\n",
    "    print(\"bacon\")\n",
    "else:\n",
    "    print(\"ham\")\n",
    "    print(\"spam\")\n",
    "    print(\"spam\")"
   ]
  },
  {
   "cell_type": "markdown",
   "id": "c7665253",
   "metadata": {},
   "source": [
    "# 8. Write code that prints Hello if 1 is stored in spam, prints Howdy if 2 is stored in spam, and prints\n",
    "# #Greetings! if anything else is stored in spam."
   ]
  },
  {
   "cell_type": "code",
   "execution_count": 22,
   "id": "59a91623",
   "metadata": {},
   "outputs": [
    {
     "name": "stdout",
     "output_type": "stream",
     "text": [
      "enter the number between  1 to 10 \n",
      " 9\n",
      "hey, how are your \n"
     ]
    }
   ],
   "source": [
    "spam = 1 or 2\n",
    "user1 = int(input(\"enter the number between  1 to 10 \\n \"))\n",
    "if user1 == spam :\n",
    "    print(\"hello\")\n",
    "elif user1 == spam :\n",
    "    print(\"howdy\")\n",
    "else:\n",
    "    print(\"hey, how are your \")"
   ]
  },
  {
   "cell_type": "markdown",
   "id": "38a09cf2",
   "metadata": {},
   "source": [
    "# 9.If your programme is stuck in an endless loop, what keys you’ll press?\n",
    "## answer  first i will remove that code and then restart y kernel again "
   ]
  },
  {
   "cell_type": "markdown",
   "id": "78f959fb",
   "metadata": {},
   "source": [
    "# 10. How can you tell the difference between break and continue?"
   ]
  },
  {
   "cell_type": "code",
   "execution_count": 23,
   "id": "6992caf1",
   "metadata": {},
   "outputs": [
    {
     "data": {
      "text/plain": [
       "' and continue statement full fill the condition of code , it will skip that particular value and still goes on in a loop '"
      ]
     },
     "execution_count": 23,
     "metadata": {},
     "output_type": "execute_result"
    }
   ],
   "source": [
    "# answer  \n",
    "'break statement break the code when condition is full fill and exit from the loop'\n",
    "' and continue statement full fill the condition of code , it will skip that particular value and still goes on in a loop '\n"
   ]
  },
  {
   "cell_type": "code",
   "execution_count": 24,
   "id": "a10394de",
   "metadata": {},
   "outputs": [
    {
     "name": "stdout",
     "output_type": "stream",
     "text": [
      "0\n",
      "1\n",
      "2\n",
      "3\n",
      "4\n",
      "5\n",
      "6\n",
      "7\n",
      "8\n",
      "9\n"
     ]
    }
   ],
   "source": [
    "# 11. In a for loop, what is the difference between range(10), range(0, 10), and range(0, 10, 1)?\n",
    "for i in range(10):\n",
    "    print(i)"
   ]
  },
  {
   "cell_type": "code",
   "execution_count": 25,
   "id": "0d2baa50",
   "metadata": {},
   "outputs": [
    {
     "name": "stdout",
     "output_type": "stream",
     "text": [
      "0\n",
      "1\n",
      "2\n",
      "3\n",
      "4\n",
      "5\n",
      "6\n",
      "7\n",
      "8\n",
      "9\n"
     ]
    }
   ],
   "source": [
    "for i in range(0,10):\n",
    "    print(i)"
   ]
  },
  {
   "cell_type": "code",
   "execution_count": 28,
   "id": "598749de",
   "metadata": {},
   "outputs": [
    {
     "name": "stdout",
     "output_type": "stream",
     "text": [
      "0\n",
      "1\n",
      "2\n",
      "3\n",
      "4\n",
      "5\n",
      "6\n",
      "7\n",
      "8\n",
      "9\n"
     ]
    }
   ],
   "source": [
    "for i in range(0,10,1):\n",
    "    print(i)"
   ]
  },
  {
   "cell_type": "markdown",
   "id": "b8bc3c1f",
   "metadata": {},
   "source": [
    "#   all the code are the same , but the parameters are different \n",
    "# and in python 10 will be count as 9  because it start from 0"
   ]
  },
  {
   "cell_type": "markdown",
   "id": "1e57063c",
   "metadata": {},
   "source": [
    "#  12. Write a short program that prints the numbers 1 to 10 using a for loop. Then write an equivalent\n",
    "# program that prints the numbers 1 to 10 using a while loop."
   ]
  },
  {
   "cell_type": "code",
   "execution_count": 30,
   "id": "094c840e",
   "metadata": {},
   "outputs": [
    {
     "name": "stdout",
     "output_type": "stream",
     "text": [
      "1\n",
      "2\n",
      "3\n",
      "4\n",
      "5\n",
      "6\n",
      "7\n",
      "8\n",
      "9\n"
     ]
    }
   ],
   "source": [
    "for i in range(1,10):\n",
    "    print(i)"
   ]
  },
  {
   "cell_type": "code",
   "execution_count": 31,
   "id": "01c6dfea",
   "metadata": {},
   "outputs": [
    {
     "name": "stdout",
     "output_type": "stream",
     "text": [
      "0\n",
      "1\n",
      "2\n",
      "3\n",
      "4\n",
      "5\n",
      "6\n",
      "7\n",
      "8\n",
      "9\n"
     ]
    }
   ],
   "source": [
    "i = 0\n",
    "while i < 10:\n",
    "    print(i)\n",
    "    i += 1"
   ]
  },
  {
   "cell_type": "markdown",
   "id": "81d398c7",
   "metadata": {},
   "source": [
    "# 13. If you had a function named bacon() inside a module named spam, how would you call it after\n",
    "## importing spam?"
   ]
  },
  {
   "cell_type": "markdown",
   "id": "008576b7",
   "metadata": {},
   "source": [
    "# import spam  as sm\n",
    "\n",
    "# module.bacon()"
   ]
  },
  {
   "cell_type": "code",
   "execution_count": null,
   "id": "70599fcd",
   "metadata": {},
   "outputs": [],
   "source": []
  }
 ],
 "metadata": {
  "kernelspec": {
   "display_name": "Python 3 (ipykernel)",
   "language": "python",
   "name": "python3"
  },
  "language_info": {
   "codemirror_mode": {
    "name": "ipython",
    "version": 3
   },
   "file_extension": ".py",
   "mimetype": "text/x-python",
   "name": "python",
   "nbconvert_exporter": "python",
   "pygments_lexer": "ipython3",
   "version": "3.9.12"
  }
 },
 "nbformat": 4,
 "nbformat_minor": 5
}
