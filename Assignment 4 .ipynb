{
 "cells": [
  {
   "cell_type": "markdown",
   "id": "dfd33bca",
   "metadata": {},
   "source": [
    "# 1. What exactly is []?"
   ]
  },
  {
   "cell_type": "markdown",
   "id": "2c77ed8b",
   "metadata": {},
   "source": [
    "# this is closed square brackets , it is called list , it is used to stored multiply type of data type \n",
    "# it can be int, float, string "
   ]
  },
  {
   "cell_type": "markdown",
   "id": "933a0aad",
   "metadata": {},
   "source": [
    "# 2. In a list of values stored in a variable called spam,\n",
    "# how would you assign the value 'hello' as the third value? (Assume [2, 4, 6, 8, 10] are in spam.) "
   ]
  },
  {
   "cell_type": "code",
   "execution_count": 3,
   "id": "c7cfc5f2",
   "metadata": {},
   "outputs": [
    {
     "name": "stdout",
     "output_type": "stream",
     "text": [
      "[2, 4, 6, 'hello', 10]\n"
     ]
    }
   ],
   "source": [
    "spam = [2,4,6,8,10]\n",
    "spam[3] = \"hello\"\n",
    "print(spam)"
   ]
  },
  {
   "cell_type": "markdown",
   "id": "3a93766a",
   "metadata": {},
   "source": [
    "#  Let's pretend the spam includes the list ['a', 'b', 'c', 'd'] for the next three queries.\n",
    "\n",
    "# 3. What is the value of spam[int(int('3' * 2) / 11)]?\n",
    "# 4. What is the value of spam[-1]?\n",
    "# 5. What is the value of spam[:2]?\n"
   ]
  },
  {
   "cell_type": "code",
   "execution_count": 14,
   "id": "dbb90286",
   "metadata": {},
   "outputs": [],
   "source": [
    "spam2 = ['a','b','c','d']\n",
    "\n",
    "# answer 1 .  it will throws an error becuase string cant be calculate with int  "
   ]
  },
  {
   "cell_type": "code",
   "execution_count": 8,
   "id": "ad544ea0",
   "metadata": {},
   "outputs": [
    {
     "data": {
      "text/plain": [
       "'d'"
      ]
     },
     "execution_count": 8,
     "metadata": {},
     "output_type": "execute_result"
    }
   ],
   "source": [
    "spam2[-1]"
   ]
  },
  {
   "cell_type": "code",
   "execution_count": 10,
   "id": "829ee0c4",
   "metadata": {},
   "outputs": [
    {
     "data": {
      "text/plain": [
       "['a', 'b']"
      ]
     },
     "execution_count": 10,
     "metadata": {},
     "output_type": "execute_result"
    }
   ],
   "source": [
    "spam2[:2]"
   ]
  },
  {
   "cell_type": "markdown",
   "id": "487df086",
   "metadata": {},
   "source": [
    "#   Let's pretend bacon has the list [3.14, 'cat,' 11, 'cat,' True] for the next three questions.\n",
    "# 6. What is the value of bacon.index('cat')?\n",
    "# 7. How does bacon.append(99) change the look of the list value in bacon?\n",
    "# 8. How does bacon.remove('cat') change the look of the list in bacon?\n"
   ]
  },
  {
   "cell_type": "code",
   "execution_count": 15,
   "id": "a625c76b",
   "metadata": {},
   "outputs": [],
   "source": [
    "bacon = [3.14,'cat',11,'cat',True]"
   ]
  },
  {
   "cell_type": "code",
   "execution_count": 20,
   "id": "1c0ad052",
   "metadata": {},
   "outputs": [],
   "source": [
    "v = bacon.index('cat')"
   ]
  },
  {
   "cell_type": "code",
   "execution_count": 22,
   "id": "5fd96231",
   "metadata": {},
   "outputs": [
    {
     "data": {
      "text/plain": [
       "1"
      ]
     },
     "execution_count": 22,
     "metadata": {},
     "output_type": "execute_result"
    }
   ],
   "source": [
    "v  #   ANSWER IS 1 "
   ]
  },
  {
   "cell_type": "code",
   "execution_count": 23,
   "id": "1ef52fcd",
   "metadata": {},
   "outputs": [],
   "source": [
    "bacon.append(99)"
   ]
  },
  {
   "cell_type": "code",
   "execution_count": 24,
   "id": "41dc05b2",
   "metadata": {},
   "outputs": [
    {
     "name": "stdout",
     "output_type": "stream",
     "text": [
      "[3.14, 'cat', 11, 'cat', True, 99]\n"
     ]
    }
   ],
   "source": [
    "print(bacon)   # it will append 99 ata the end of the list"
   ]
  },
  {
   "cell_type": "code",
   "execution_count": 25,
   "id": "617a0530",
   "metadata": {},
   "outputs": [],
   "source": [
    "bacon.remove('cat')"
   ]
  },
  {
   "cell_type": "code",
   "execution_count": 26,
   "id": "3b0884b1",
   "metadata": {},
   "outputs": [
    {
     "data": {
      "text/plain": [
       "[3.14, 11, 'cat', True, 99]"
      ]
     },
     "execution_count": 26,
     "metadata": {},
     "output_type": "execute_result"
    }
   ],
   "source": [
    "bacon"
   ]
  },
  {
   "cell_type": "code",
   "execution_count": 27,
   "id": "453a5a33",
   "metadata": {},
   "outputs": [
    {
     "data": {
      "text/plain": [
       "[3.14, 11, 'cat', True, 99]"
      ]
     },
     "execution_count": 27,
     "metadata": {},
     "output_type": "execute_result"
    }
   ],
   "source": [
    "bacon"
   ]
  },
  {
   "cell_type": "markdown",
   "id": "2eb3921e",
   "metadata": {},
   "source": [
    "# 9. What are the list concatenation and list replication operators?"
   ]
  },
  {
   "cell_type": "markdown",
   "id": "e2f96cfa",
   "metadata": {},
   "source": [
    "# answer :  list concatenation we use \"+ \"  and for list replication we use \"*\" ."
   ]
  },
  {
   "cell_type": "markdown",
   "id": "c7fc5610",
   "metadata": {},
   "source": [
    "# 10. What is difference between the list methods append() and insert()?"
   ]
  },
  {
   "cell_type": "markdown",
   "id": "8d2e8675",
   "metadata": {},
   "source": [
    "# answer : list method append .  add the value at the end of list  , while insert method . value can be insert in any position in list"
   ]
  },
  {
   "cell_type": "markdown",
   "id": "67e67060",
   "metadata": {},
   "source": [
    "#  11. What are the two methods for removing items from a list?"
   ]
  },
  {
   "cell_type": "markdown",
   "id": "5af0deee",
   "metadata": {},
   "source": [
    "# asnwer :  the method of removing elements from list are \n",
    "# 1 . pop ()  function \n",
    "# 2. remove ()  function \n",
    "# both are helps to remove the element \n",
    "# but pop ()  function return the value it delete"
   ]
  },
  {
   "cell_type": "markdown",
   "id": "2638448a",
   "metadata": {},
   "source": [
    "# 12. Describe how list values and string values are identical."
   ]
  },
  {
   "cell_type": "markdown",
   "id": "579f0711",
   "metadata": {},
   "source": [
    "# 13. What's the difference between tuples and lists?"
   ]
  },
  {
   "cell_type": "code",
   "execution_count": 33,
   "id": "beff46d0",
   "metadata": {},
   "outputs": [],
   "source": [
    " d = '''tuple :  it is immutable datatype that means it cant be changed, add \n",
    "\n",
    "'it has round closed brackets  () '\n",
    "'in tuple we can stored multiple type of data type \n",
    "\n",
    "'-------------------------------------'\n",
    "'we can store multiple data sets, or data type in list'\n",
    "' list is mutable means that is can be  changed , we can perform arithemtic problem on it '\n",
    "'list is identical as closed square barackest []'''"
   ]
  },
  {
   "cell_type": "code",
   "execution_count": 34,
   "id": "c2560b25",
   "metadata": {},
   "outputs": [
    {
     "name": "stdout",
     "output_type": "stream",
     "text": [
      "tuple :  it is immutable datatype that means it cant be changed, add \n",
      "\n",
      "'it has round closed brackets  () '\n",
      "'in tuple we can stored multiple type of data type \n",
      "\n",
      "'-------------------------------------'\n",
      "'we can store multiple data sets, or data type in list'\n",
      "' list is mutable means that is can be  changed , we can perform arithemtic problem on it '\n",
      "'list is identical as closed square barackest []\n"
     ]
    }
   ],
   "source": [
    "print(d)"
   ]
  },
  {
   "cell_type": "markdown",
   "id": "6920e64f",
   "metadata": {},
   "source": [
    "# 14. How do you type a tuple value that only contains the integer 42?"
   ]
  },
  {
   "cell_type": "markdown",
   "id": "1f694ea0",
   "metadata": {},
   "source": [
    "# 15. How do you get a list value's tuple form? How do you get a tuple value's list form?"
   ]
  },
  {
   "cell_type": "code",
   "execution_count": 38,
   "id": "84c25576",
   "metadata": {},
   "outputs": [
    {
     "name": "stdout",
     "output_type": "stream",
     "text": [
      "(2, 3, 4, 6, 7, 8)\n"
     ]
    }
   ],
   "source": [
    "li = [2,3,4,6,7,8]\n",
    "\n",
    "c = tuple(li)\n",
    "print(c)"
   ]
  },
  {
   "cell_type": "code",
   "execution_count": 43,
   "id": "26765a74",
   "metadata": {},
   "outputs": [
    {
     "name": "stdout",
     "output_type": "stream",
     "text": [
      "[1, 2, 3, 4, 1, 2, 3, 4]\n"
     ]
    }
   ],
   "source": [
    "c = (1,2,3,4)\n",
    "\n",
    "d = list(c)\n",
    "\n",
    "for i in c:\n",
    "    d.append(i)\n",
    "print(d)"
   ]
  },
  {
   "cell_type": "markdown",
   "id": "9d1e57a7",
   "metadata": {},
   "source": [
    "# 16. Variables that \"contain\" list values are not necessarily lists themselves. Instead, what do they contain? "
   ]
  },
  {
   "cell_type": "markdown",
   "id": "78fe9656",
   "metadata": {},
   "source": [
    "# answer = dont know "
   ]
  },
  {
   "cell_type": "markdown",
   "id": "5339ed56",
   "metadata": {},
   "source": [
    "## 17. How do you distinguish between copy.copy() and copy.deepcopy()?"
   ]
  },
  {
   "cell_type": "markdown",
   "id": "fbe3972c",
   "metadata": {},
   "source": [
    "# copy() create reference to original object. If you change copied object - you change the original object. . deepcopy() creates new object and does real copying of original object to new one. Changing new deepcopied object doesn't affect original object."
   ]
  },
  {
   "cell_type": "code",
   "execution_count": null,
   "id": "060c45f0",
   "metadata": {},
   "outputs": [],
   "source": []
  }
 ],
 "metadata": {
  "kernelspec": {
   "display_name": "Python 3 (ipykernel)",
   "language": "python",
   "name": "python3"
  },
  "language_info": {
   "codemirror_mode": {
    "name": "ipython",
    "version": 3
   },
   "file_extension": ".py",
   "mimetype": "text/x-python",
   "name": "python",
   "nbconvert_exporter": "python",
   "pygments_lexer": "ipython3",
   "version": "3.9.12"
  }
 },
 "nbformat": 4,
 "nbformat_minor": 5
}
